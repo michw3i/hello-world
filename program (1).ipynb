{
 "cells": [
  {
   "cell_type": "code",
   "execution_count": null,
   "id": "bdff211e-94ca-4221-8ef9-975716971cfb",
   "metadata": {},
   "outputs": [],
   "source": [
    "from datetime import datetime\n",
    "\n",
    "name = input(\"Enter your name:\")\n",
    "birth_year = int(input(\"Enter your birth year:\"))\n",
    "\n",
    "current_year = datetime.now().year\n",
    "\n",
    "age = current_year - birth_year\n",
    "\n",
    "print(f\"Hello, {name}!\")\n",
    "if age < 18:\n",
    "    print(\"You are a child!\")\n",
    "elif age < 65:\n",
    "    print(\"You are an adult!\")\n",
    "else:\n",
    "    print(\"You are a senior!\")"
   ]
  }
 ],
 "metadata": {
  "kernelspec": {
   "display_name": "Python 3 (ipykernel)",
   "language": "python",
   "name": "python3"
  },
  "language_info":{
   "codemirror_mode":{
   "name": "ipython",
   "version": 3
   },
   "file_extension": ".py",
   "mimetype": "text/x-python",
   "name": "python",
   "nbconvert_exporter": "python",
   "pygments_lexer": "ipython3",
   "version": "3.11.5"
  }
 },
 "nbformat": 4,
 "nbformat_minor": 5
}
